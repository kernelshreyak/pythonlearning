{
 "cells": [
  {
   "cell_type": "code",
   "execution_count": 16,
   "metadata": {},
   "outputs": [],
   "source": [
    "graph1 = {'A': ['B', 'C'],\n",
    "         'B': ['A', 'D', 'E'],\n",
    "         'C': ['A', 'F'],\n",
    "         'D': ['B'],\n",
    "         'E': ['B', 'F'],\n",
    "         'F': ['C', 'E']}"
   ]
  },
  {
   "cell_type": "code",
   "execution_count": 15,
   "metadata": {},
   "outputs": [
    {
     "name": "stdout",
     "output_type": "stream",
     "text": [
      "['C', 'A', 'B', 'E', 'F', 'D']\n"
     ]
    }
   ],
   "source": [
    "#DFS\n",
    "visited = []\n",
    "\n",
    "def dfs(graph,node):\n",
    "    global visited\n",
    "    if node not in visited:\n",
    "        visited.append(node)\n",
    "        for n in graph[node]:\n",
    "            dfs(graph,n)\n",
    "\n",
    "dfs(graph1,'C')\n",
    "print(visited)"
   ]
  },
  {
   "cell_type": "code",
   "execution_count": 30,
   "metadata": {},
   "outputs": [
    {
     "data": {
      "text/plain": [
       "[['A', 'C', 'F'], ['A', 'B', 'E', 'F']]"
      ]
     },
     "execution_count": 30,
     "metadata": {},
     "output_type": "execute_result"
    }
   ],
   "source": [
    "def bfs( start, end, graph ):\n",
    "\ttodo = [(start, [start])]\n",
    "\twhile len( todo ):\n",
    "\t\tnode, path = todo.pop( 0 )\n",
    "\t\tfor next_node in graph[node]:\n",
    "\t\t\tif next_node in path:\n",
    "\t\t\t\tcontinue\n",
    "\t\t\telif next_node == end:\n",
    "\t\t\t\tyield path + [next_node]\n",
    "\t\t\telse:\n",
    "\t\t\t\ttodo.append( (next_node, path + [next_node]) )\n",
    "[x  for x in bfs( 'A', 'F', graph1 )]             "
   ]
  }
 ],
 "metadata": {
  "kernelspec": {
   "display_name": "Python 2",
   "language": "python",
   "name": "python2"
  },
  "language_info": {
   "codemirror_mode": {
    "name": "ipython",
    "version": 2
   },
   "file_extension": ".py",
   "mimetype": "text/x-python",
   "name": "python",
   "nbconvert_exporter": "python",
   "pygments_lexer": "ipython2",
   "version": "2.7.14"
  }
 },
 "nbformat": 4,
 "nbformat_minor": 2
}
