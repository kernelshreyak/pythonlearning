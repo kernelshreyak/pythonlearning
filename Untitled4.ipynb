{
 "cells": [
  {
   "cell_type": "code",
   "execution_count": 2,
   "metadata": {},
   "outputs": [
    {
     "name": "stdout",
     "output_type": "stream",
     "text": [
      "2.66937544975\n",
      "1.79548297007\n"
     ]
    }
   ],
   "source": [
    "# FB - 201104096\n",
    "import math\n",
    "import numpy as np\n",
    "import matplotlib.pyplot as plt\n",
    "\n",
    "# First Order ODE (y' = f(x, y)) Solver using Euler method\n",
    "# xa: initial value of independent variable\n",
    "# xb: final value of independent variable\n",
    "# ya: initial value of dependent variable\n",
    "# n : number of steps (higher the better)\n",
    "# Returns value of y at xb. \n",
    "\n",
    "def Euler(f, xa, xb, ya, n):\n",
    "      h = (xb - xa) / float(n)\n",
    "      x = xa\n",
    "      y = ya\n",
    "      for i in range(n):\n",
    "          y += h * f(x, y)\n",
    "          x += h\n",
    "      return y\n",
    "\n",
    "# Second Order ODE (y'' = f(x, y, y')) Solver using Euler method\n",
    "# y1a: initial value of first derivative of dependent variable\n",
    "def Euler2(f, xa, xb, ya, y1a, n):\n",
    "      h = (xb - xa) / float(n)\n",
    "      x = xa\n",
    "      y = ya\n",
    "      y1 = y1a\n",
    "      for i in range(n):\n",
    "          y1 += h * f(x, y, y1)\n",
    "          y += h * y1\n",
    "          x += h\n",
    "      return y\n",
    "\n",
    "x0=0\n",
    "y0=1\n",
    "xf=10\n",
    "//print Euler(lambda x, y: math.cos(x) + math.sin(y), x0, 1, y0, 1000)\n",
    " X=np.linspace(x0,xf,)\n",
    "//print Euler2(lambda x, y, y1: math.sin(x * y) - y1, 0, 1, 1, 1, 1000)"
   ]
  },
  {
   "cell_type": "code",
   "execution_count": null,
   "metadata": {},
   "outputs": [],
   "source": []
  }
 ],
 "metadata": {
  "kernelspec": {
   "display_name": "Python 2",
   "language": "python",
   "name": "python2"
  },
  "language_info": {
   "codemirror_mode": {
    "name": "ipython",
    "version": 2
   },
   "file_extension": ".py",
   "mimetype": "text/x-python",
   "name": "python",
   "nbconvert_exporter": "python",
   "pygments_lexer": "ipython2",
   "version": "2.7.14"
  }
 },
 "nbformat": 4,
 "nbformat_minor": 2
}
