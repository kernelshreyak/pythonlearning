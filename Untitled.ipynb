{
 "cells": [
  {
   "cell_type": "code",
   "execution_count": 1,
   "metadata": {},
   "outputs": [
    {
     "ename": "SyntaxError",
     "evalue": "invalid syntax (<ipython-input-1-13e156fdef2e>, line 36)",
     "output_type": "error",
     "traceback": [
      "\u001b[1;36m  File \u001b[1;32m\"<ipython-input-1-13e156fdef2e>\"\u001b[1;36m, line \u001b[1;32m36\u001b[0m\n\u001b[1;33m    transgrid[i] = intermediate @ grid\u001b[0m\n\u001b[1;37m                                ^\u001b[0m\n\u001b[1;31mSyntaxError\u001b[0m\u001b[1;31m:\u001b[0m invalid syntax\n"
     ]
    }
   ],
   "source": [
    "%matplotlib inline\n",
    "import matplotlib.pyplot as plt\n",
    "import numpy as np\n",
    "\n",
    "from matplotlib import animation, rc\n",
    "\n",
    "# Display matplotlib animations as HTML5 videos in a Jupyter Notebook\n",
    "rc('animation', html='html5')\n",
    "\n",
    "def animate_transform(A, grid=None, num_steps=50, repeat=False):\n",
    "    \"\"\"\n",
    "        Animates the effect a transform has on a given grid.\n",
    "        If no grid is given, one will be generated.\n",
    "\n",
    "        You can expect a small delay while the function generates the animation.\n",
    "    \"\"\"\n",
    "    def colorizer(x, y):\n",
    "        \"\"\"Map x-y coordinates to a unique rgb color\"\"\"\n",
    "        r = min(1, 1 - y/3)\n",
    "        g = min(1, 1 + y/3)\n",
    "        b = 1/4 + x/16\n",
    "        return r, g, b\n",
    "\n",
    "    def stepwise_transform(A, grid, num_steps):\n",
    "        \"\"\"\n",
    "            Returns a list of transformed grids,\n",
    "            stepping slowly from the given `grid` to\n",
    "            the grid `A @ grid`.\n",
    "        \"\"\"\n",
    "        # create empty array of the right size\n",
    "        transgrid = np.zeros((num_steps + 1, ) + np.shape(grid))\n",
    "        # compute intermediate transforms\n",
    "        for i in range(num_steps + 1):\n",
    "            intermediate = np.eye(2) + i / num_steps * (A - np.eye(2))\n",
    "            # apply intermediate matrix transformation\n",
    "            transgrid[i] = intermediate @ grid\n",
    "        return transgrid\n",
    "\n",
    "    if grid is None:\n",
    "        # Create a grid of points in x-y space\n",
    "        xvals = np.linspace(-4, 4, 9)\n",
    "        yvals = np.linspace(-3, 3, 7)\n",
    "        grid = np.column_stack([[x, y] for x in xvals for y in yvals])\n",
    "\n",
    "    # Map grid coordinates to colors. Done only for xygrid, not all grids.\n",
    "    colors = list(map(colorizer, grid[0], grid[1]))\n",
    "    intermediate_transforms = stepwise_transform(A, grid, num_steps)\n",
    "    fig = plt.figure(figsize=(6, 6))\n",
    "\n",
    "    xmin = min(min(grid[0]), min(intermediate_transforms[-1][0]))\n",
    "    xmax = max(max(grid[0]), max(intermediate_transforms[-1][0]))\n",
    "    ymin = min(min(grid[1]), min(intermediate_transforms[-1][1]))\n",
    "    ymax = max(max(grid[1]), max(intermediate_transforms[-1][1]))\n",
    "\n",
    "    ax = plt.axes(xlim=(xmin, xmax), ylim=(ymin, ymax))\n",
    "    scatter = ax.scatter([], [], c=colors)\n",
    "    # Prevent `%matplotlib inline` from displaying the above scatter plot.\n",
    "    plt.close()\n",
    "\n",
    "    def update(i):\n",
    "        \"\"\"Draws the ith intermediate transform\"\"\"\n",
    "        scatter.set_offsets(intermediate_transforms[i].T)\n",
    "        return scatter,\n",
    "\n",
    "    return animation.FuncAnimation(fig,\n",
    "                                   update,\n",
    "                                   interval=50,\n",
    "                                   frames=num_steps,\n",
    "                                   blit=True,\n",
    "                                   repeat=repeat)"
   ]
  },
  {
   "cell_type": "code",
   "execution_count": null,
   "metadata": {},
   "outputs": [],
   "source": []
  }
 ],
 "metadata": {
  "kernelspec": {
   "display_name": "Python 2",
   "language": "python",
   "name": "python2"
  },
  "language_info": {
   "codemirror_mode": {
    "name": "ipython",
    "version": 2
   },
   "file_extension": ".py",
   "mimetype": "text/x-python",
   "name": "python",
   "nbconvert_exporter": "python",
   "pygments_lexer": "ipython2",
   "version": "2.7.14"
  }
 },
 "nbformat": 4,
 "nbformat_minor": 2
}
